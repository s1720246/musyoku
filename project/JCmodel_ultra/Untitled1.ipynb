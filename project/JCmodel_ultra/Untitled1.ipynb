{
 "cells": [
  {
   "cell_type": "code",
   "execution_count": 1,
   "metadata": {},
   "outputs": [
    {
     "ename": "TypeError",
     "evalue": "unsupported operand type(s) for *: 'float' and 'function'",
     "output_type": "error",
     "traceback": [
      "\u001b[0;31m---------------------------------------------------------------------------\u001b[0m",
      "\u001b[0;31mTypeError\u001b[0m                                 Traceback (most recent call last)",
      "\u001b[0;32m<ipython-input-1-71e79662ac55>\u001b[0m in \u001b[0;36m<module>\u001b[0;34m()\u001b[0m\n\u001b[1;32m     55\u001b[0m \u001b[0;32mfor\u001b[0m \u001b[0mwa_a\u001b[0m \u001b[0;32min\u001b[0m \u001b[0mwa_vec\u001b[0m\u001b[0;34m:\u001b[0m\u001b[0;34m\u001b[0m\u001b[0m\n\u001b[1;32m     56\u001b[0m \u001b[0;34m\u001b[0m\u001b[0m\n\u001b[0;32m---> 57\u001b[0;31m     \u001b[0mH_ap\u001b[0m \u001b[0;34m=\u001b[0m \u001b[0mH\u001b[0m \u001b[0;34m+\u001b[0m \u001b[0mwa_a\u001b[0m \u001b[0;34m*\u001b[0m \u001b[0mnap\u001b[0m \u001b[0;34m+\u001b[0m \u001b[0mga\u001b[0m\u001b[0;34m\u001b[0m\u001b[0m\n\u001b[0m\u001b[1;32m     58\u001b[0m     \u001b[0map_full_energy\u001b[0m\u001b[0;34m,\u001b[0m \u001b[0map_full_eigenstate\u001b[0m \u001b[0;34m=\u001b[0m \u001b[0mH_ap\u001b[0m\u001b[0;34m.\u001b[0m\u001b[0meigenstates\u001b[0m\u001b[0;34m(\u001b[0m\u001b[0;34m)\u001b[0m\u001b[0;34m\u001b[0m\u001b[0m\n",
      "\u001b[0;31mTypeError\u001b[0m: unsupported operand type(s) for *: 'float' and 'function'"
     ]
    }
   ],
   "source": [
    "#!/usr/bin/env python2\n",
    "# -*- coding: utf-8 -*-\n",
    "\"\"\"\n",
    "Created on Fri Mar  2 03:32:51 2018\n",
    "\n",
    "@author: ks\n",
    "\"\"\"\n",
    "\n",
    "# setup the matplotlib graphics library and configure it to show figures inline in the notebook\n",
    "import matplotlib.pyplot as plt\n",
    "import matplotlib as mpl\n",
    "import numpy as np\n",
    "\n",
    "# make qutip available in the rest of the notebook\n",
    "from qutip import *\n",
    "\n",
    "# Problem parameters\n",
    "wc = 1.0  * 2 * np.pi  # cavity frequency\n",
    "wa = 1.0  * 2 * np.pi  # atom frequency\n",
    "g  = 1.0  * 2 * np.pi # coupling strength of atom-cavity\n",
    "ga = 1.0  * 2 * np.pi # coupling strength of ancilla-cavity\n",
    "\n",
    "N = 5            # number of cavity fock states\n",
    "use_rwa = False\n",
    "\n",
    "# Set up the operators and the Hamiltonian\n",
    "# operators\n",
    "a   = tensor(destroy(N), qeye(2), qeye(2))\n",
    "ap  = tensor(qeye(N), qeye(2), destroy(2))\n",
    "sm  = tensor(qeye(N), destroy(2), qeye(2))\n",
    "\n",
    "na  = sigmaz        # atom\n",
    "nap = sigmaz        # ancilla\n",
    "nc  = a.dag() * a   # cavity\n",
    "\n",
    "# decoupled Hamiltonian\n",
    "H0 = wc * a.dag() * a + wa * sm.dag() * sm\n",
    "\n",
    "# interaction Hamiltonian\n",
    "if use_rwa:\n",
    "    H1 = (a.dag() * sm + a * sm.dag())\n",
    "else:\n",
    "    H1 = (a.dag() + a) * (sm + sm.dag())\n",
    "    \n",
    "H = H0 + g * H1\n",
    "full_energy, full_eigenstate = H.eigenstates()\n",
    "\n",
    "# time list\n",
    "tlist = np.linspace(0, 10, 1001) * 2.0*np.pi\n",
    "\n",
    "# diagonalized H\n",
    "diag_H = qdiags(full_energy, 0)\n",
    "wa_vec = np.linspace(0, 2.0, 101) * 2 * np.pi # Frequency of ancilla qubit \n",
    "\n",
    "for wa_a in wa_vec:\n",
    "\n",
    "    H_ap = H + wa_a * nap + ga\n",
    "    ap_full_energy, ap_full_eigenstate = H_ap.eigenstates()\n"
   ]
  },
  {
   "cell_type": "code",
   "execution_count": null,
   "metadata": {},
   "outputs": [],
   "source": []
  }
 ],
 "metadata": {
  "kernelspec": {
   "display_name": "Python 3",
   "language": "python",
   "name": "python3"
  },
  "language_info": {
   "codemirror_mode": {
    "name": "ipython",
    "version": 3
   },
   "file_extension": ".py",
   "mimetype": "text/x-python",
   "name": "python",
   "nbconvert_exporter": "python",
   "pygments_lexer": "ipython3",
   "version": "3.5.2"
  }
 },
 "nbformat": 4,
 "nbformat_minor": 2
}
