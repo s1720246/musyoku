{
 "cells": [
  {
   "cell_type": "code",
   "execution_count": 2,
   "metadata": {},
   "outputs": [],
   "source": [
    "%matplotlib inline\n",
    "import matplotlib.pyplot as plt\n",
    "import numpy as np\n",
    "from qutip import *\n",
    "from qutip.ui.progressbar import TextProgressBar as ProgressBar"
   ]
  },
  {
   "cell_type": "code",
   "execution_count": 18,
   "metadata": {},
   "outputs": [],
   "source": [
    "# set up the parameters and start calculation\n",
    "delta  = 1.0 * 2 * np.pi  # qubit sigma_x coefficient\n",
    "w      = 2.0 * 2 * np.pi  # driving frequency\n",
    "T      = 2.0 * np.pi/w    # driving period \n",
    "A      = 2.0 * 2 * np.pi  # driving amplitude\n",
    "\n",
    "gamma1 = 0.0125        # relaxation rate\n",
    "gamma2 = 0.125         # dephasing  rate\n",
    "\n",
    "t_list   = np.linspace(  0.0, 20.0, 1001) * 2 * np.pi\n",
    "\n",
    "# pre-calculate the necessary operators\n",
    "sx = sigmax(); sz = sigmaz(); sm = destroy(2); sn = num(2)\n",
    "\n",
    "# collapse operators\n",
    "c_op_list = [np.sqrt(gamma1) * sm, np.sqrt(gamma2) * sz]  # relaxation and dephasing"
   ]
  },
  {
   "cell_type": "code",
   "execution_count": 12,
   "metadata": {},
   "outputs": [],
   "source": [
    "# ODE settings (for list-str format)\n",
    "options = Options()\n",
    "options.rhs_reuse = True\n",
    "options.atol = 1e-6 # reduce accuracy to speed\n",
    "options.rtol = 1e-5 # up the calculation a bit"
   ]
  },
  {
   "cell_type": "code",
   "execution_count": 14,
   "metadata": {},
   "outputs": [],
   "source": [
    "# for function-callback style time-dependence\n",
    "def hamiltonian_t(t, args):\n",
    "    \"\"\" evaluate the hamiltonian at time t. \"\"\"\n",
    "    H_A = args[0]\n",
    "    H_P = args[1]\n",
    "    H_I = args[2]\n",
    "#    w   = args[3]\n",
    "    ep  = args[3]\n",
    "    return H_P + H_A * ep + H_I"
   ]
  },
  {
   "cell_type": "code",
   "execution_count": null,
   "metadata": {},
   "outputs": [],
   "source": []
  },
  {
   "cell_type": "code",
   "execution_count": null,
   "metadata": {},
   "outputs": [],
   "source": []
  }
 ],
 "metadata": {
  "kernelspec": {
   "display_name": "Python 3",
   "language": "python",
   "name": "python3"
  },
  "language_info": {
   "codemirror_mode": {
    "name": "ipython",
    "version": 3
   },
   "file_extension": ".py",
   "mimetype": "text/x-python",
   "name": "python",
   "nbconvert_exporter": "python",
   "pygments_lexer": "ipython3",
   "version": "3.5.2"
  }
 },
 "nbformat": 4,
 "nbformat_minor": 2
}
