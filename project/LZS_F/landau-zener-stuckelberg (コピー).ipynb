{
 "cells": [
  {
   "cell_type": "markdown",
   "metadata": {},
   "source": [
    "# QuTiP example: Landau-Zener-Stuckelberg inteferometry"
   ]
  },
  {
   "cell_type": "markdown",
   "metadata": {},
   "source": [
    "J.R. Johansson and P.D. Nation\n",
    "\n",
    "For more information about QuTiP see [http://qutip.org](http://qutip.org)"
   ]
  },
  {
   "cell_type": "code",
   "execution_count": 85,
   "metadata": {},
   "outputs": [],
   "source": [
    "%matplotlib inline"
   ]
  },
  {
   "cell_type": "code",
   "execution_count": 86,
   "metadata": {},
   "outputs": [],
   "source": [
    "import matplotlib.pyplot as plt"
   ]
  },
  {
   "cell_type": "code",
   "execution_count": 87,
   "metadata": {},
   "outputs": [],
   "source": [
    "import numpy as np"
   ]
  },
  {
   "cell_type": "code",
   "execution_count": 88,
   "metadata": {},
   "outputs": [],
   "source": [
    "from qutip import *\n",
    "from qutip.ui.progressbar import TextProgressBar as ProgressBar"
   ]
  },
  {
   "cell_type": "markdown",
   "metadata": {},
   "source": [
    "Landau-Zener-Stuckelberg interferometry: Steady state of a strongly driven two-level system, using the one-period propagator. "
   ]
  },
  {
   "cell_type": "code",
   "execution_count": 89,
   "metadata": {},
   "outputs": [],
   "source": [
    "# set up the parameters and start calculation\n",
    "wq  = 0.8  * 2 * np.pi  # qubit sigma_z coefficient\n",
    "wqa = 1.8095573684677206\n",
    "wc  = 1.0  * 2 * np.pi  # cavity freq\n",
    "g   = 0.6  * 2 * np.pi  # coupling strength\n",
    "ga  = 0.02 * 2 * np.pi\n",
    "w   = 2.0  * 2 * np.pi  # driving frequency\n",
    "T   = 2.0  / w * np.pi      # driving period \n",
    "N   = 8\n",
    "\n",
    "gamma1 = 0.00001        # relaxation rate\n",
    "gamma2 = 0.0001          # dephasing  rate\n",
    "gamma3 = 0.0001\n",
    "\n",
    "eps_list = np.linspace(-0.5, 0.5, 31) * 2.0 * np.pi  # offset\n",
    "A_list   = np.linspace( 0.0, 0.5, 31) * 2.0 * np.pi  # amp\n",
    "\n",
    "# pre-calculate the necessary operators\n",
    "sx = sigmax()\n",
    "sz = sigmaz()\n",
    "\n",
    "nq  = tensor(qeye(N), sz, qeye(2))\n",
    "nqa = tensor(qeye(N), qeye(2), sz)\n",
    "nc  = tensor(destroy(N).dag() * destroy(N), qeye(2), qeye(2))\n",
    "sn  = tensor(qeye(N), num(2), qeye(2))\n",
    "sna = tensor(qeye(N), qeye(2), num(2))\n",
    "\n",
    "a   = tensor(destroy(N), qeye(2), qeye(2)) # destroy of cavity\n",
    "sm  = tensor(qeye(N), destroy(2), qeye(2)) # destroy of qubit\n",
    "sam = tensor(qeye(N), qeye(2), destroy(2)) # destroy of ancilla\n",
    "\n",
    "# collapse operators\n",
    "c_op_list = [np.sqrt(gamma1) * a, np.sqrt(gamma2) * nq, np.sqrt(gamma3) * nqa]  # relaxation and dephasing"
   ]
  },
  {
   "cell_type": "code",
   "execution_count": 90,
   "metadata": {},
   "outputs": [],
   "source": [
    "# ODE settings (for list-str format)\n",
    "options = Options()\n",
    "options.rhs_reuse = True\n",
    "options.atol = 1e-6 # reduce accuracy to speed\n",
    "options.rtol = 1e-5 # up the calculation a bit"
   ]
  },
  {
   "cell_type": "code",
   "execution_count": 91,
   "metadata": {},
   "outputs": [],
   "source": [
    "# for function-callback style time-dependence\n",
    "def hamiltonian_t(t, args):\n",
    "    \"\"\" evaluate the hamiltonian at time t. \"\"\"\n",
    "    H0 = args[0]\n",
    "    H1 = args[1]\n",
    "    w  = args[2]\n",
    "    return H0 + HA * np.sin(w * t)"
   ]
  },
  {
   "cell_type": "code",
   "execution_count": 92,
   "metadata": {},
   "outputs": [],
   "source": [
    "# perform the calculation for each combination of eps and A, store the result\n",
    "# in a matrix\n",
    "def calculate():\n",
    "\n",
    "    pc_mat = np.zeros((len(eps_list), len(A_list)))\n",
    "    pa_mat = np.zeros((len(eps_list), len(A_list)))\n",
    "    pq_mat = np.zeros((len(eps_list), len(A_list)))\n",
    "\n",
    "    pbar = ProgressBar(len(eps_list))\n",
    "    \n",
    "    for m, eps in enumerate(eps_list):\n",
    "        H0 = 0.5 * eps * nqa + 0.5 * wq *nq + wc * nc + g * (sm + sm.dag()) * (a + a.dag()) + ga * (sm + sm.dag) * (a + a.dag())\n",
    "\n",
    "        pbar.update(m)\n",
    "\n",
    "        for n, A in enumerate(A_list):\n",
    "            H1 = (A/2) * nqa\n",
    "\n",
    "            # function callback format\n",
    "            # args = (H0, H1, w); H_td = hamiltonian_t\n",
    "\n",
    "            # list-str format\n",
    "            #args = {'w': w}; H_td = [H0, [H1, 'sin(w * t)']]\n",
    "\n",
    "            # list-function format\n",
    "            args = w; H_td = [H0, [H1, lambda t, w: np.sin(w * t)]]\n",
    "\n",
    "            U = propagator(H_td, T, c_op_list, args, options)\n",
    "            rho_ss = propagator_steadystate(U)\n",
    "            rho_a_ss = rho_ss.ptrace(2)\n",
    "            rho_q_ss = rho_ss.ptrace(1)\n",
    "            rho_c_ss = rho_ss.ptrace(0)\n",
    "            \n",
    "            pc_mat[m, n] = np.real(expect(destroy(N).dag() * destroy(N), rho_c_ss))\n",
    "            pa_mat[m, n] = np.real(expect(num(2), rho_a_ss))\n",
    "            pq_mat[m, n] = np.real(expect(num(2), rho_q_ss))\n",
    "            print(m, n)\n",
    "    return pc_mat, pa_mat, pq_mat"
   ]
  },
  {
   "cell_type": "code",
   "execution_count": null,
   "metadata": {
    "scrolled": true
   },
   "outputs": [
    {
     "name": "stderr",
     "output_type": "stream",
     "text": [
      "/usr/local/lib/python3.5/dist-packages/qutip/qobj.py:305: UserWarning: Initializing Qobj from unsupported type: <class 'method'>\n",
      "  builtins.type(inpt))\n"
     ]
    },
    {
     "name": "stdout",
     "output_type": "stream",
     "text": [
      "0 0\n",
      "0 1\n",
      "0 2\n",
      "0 3\n",
      "0 4\n",
      "0 5\n",
      "0 6\n",
      "0 7\n"
     ]
    }
   ],
   "source": [
    "pc_mat, pa_mat, pq_mat = calculate()"
   ]
  },
  {
   "cell_type": "code",
   "execution_count": null,
   "metadata": {
    "scrolled": false
   },
   "outputs": [],
   "source": [
    "fig, ax = plt.subplots(figsize=(8, 8))\n",
    "\n",
    "A_mat, eps_mat = np.meshgrid(A_list/(2*np.pi), eps_list/(2*np.pi))\n",
    "\n",
    "ax.pcolor(eps_mat, A_mat, pq_mat)\n",
    "ax.set_xlabel(r'Bias point $\\epsilon$')\n",
    "ax.set_ylabel(r'Amplitude $A$')\n",
    "ax.set_title(\"Steadystate excitation probability\\n\" +\n",
    "             r'$H = -\\frac{1}{2}\\Delta\\sigma_x -\\frac{1}{2}\\epsilon\\sigma_z - \\frac{1}{2}A\\sin(\\omega t)$' + \"\\n\");"
   ]
  },
  {
   "cell_type": "code",
   "execution_count": null,
   "metadata": {},
   "outputs": [],
   "source": [
    "fig, bx = plt.subplots(figsize=(8, 8))\n",
    "\n",
    "A_mat, eps_mat = np.meshgrid(A_list/(2*np.pi), eps_list/(2*np.pi))\n",
    "\n",
    "bx.pcolor(eps_mat, A_mat, pa_mat)\n",
    "bx.set_xlabel(r'Bias point $\\epsilon$')\n",
    "bx.set_ylabel(r'Amplitude $A$')\n",
    "bx.set_title(\"Steadystate excitation probability\\n\" +\n",
    "             r'$H = -\\frac{1}{2}\\Delta\\sigma_x -\\frac{1}{2}\\epsilon\\sigma_z - \\frac{1}{2}A\\sin(\\omega t)$' + \"\\n\");"
   ]
  },
  {
   "cell_type": "code",
   "execution_count": null,
   "metadata": {},
   "outputs": [],
   "source": [
    "fig, cx = plt.subplots(figsize=(8, 8))\n",
    "\n",
    "A_mat, eps_mat = np.meshgrid(A_list/(2*np.pi), eps_list/(2*np.pi))\n",
    "\n",
    "cx.pcolor(eps_mat, A_mat, pc_mat)\n",
    "cx.set_xlabel(r'Bias point $\\epsilon$')\n",
    "cx.set_ylabel(r'Amplitude $A$')\n",
    "cx.set_title(\"Steadystate excitation probability\\n\" +\n",
    "             r'$H = -\\frac{1}{2}\\Delta\\sigma_x -\\frac{1}{2}\\epsilon\\sigma_z - \\frac{1}{2}A\\sin(\\omega t)$' + \"\\n\");"
   ]
  },
  {
   "cell_type": "code",
   "execution_count": null,
   "metadata": {},
   "outputs": [],
   "source": [
    "coherent(N, np.sqrt(4))"
   ]
  },
  {
   "cell_type": "markdown",
   "metadata": {},
   "source": [
    "## Versions"
   ]
  },
  {
   "cell_type": "code",
   "execution_count": null,
   "metadata": {},
   "outputs": [],
   "source": []
  },
  {
   "cell_type": "code",
   "execution_count": null,
   "metadata": {},
   "outputs": [],
   "source": [
    "from qutip.ipynbtools import version_table\n",
    "\n",
    "version_table()"
   ]
  }
 ],
 "metadata": {
  "kernelspec": {
   "display_name": "Python 3",
   "language": "python",
   "name": "python3"
  },
  "language_info": {
   "codemirror_mode": {
    "name": "ipython",
    "version": 3
   },
   "file_extension": ".py",
   "mimetype": "text/x-python",
   "name": "python",
   "nbconvert_exporter": "python",
   "pygments_lexer": "ipython3",
   "version": "3.5.2"
  }
 },
 "nbformat": 4,
 "nbformat_minor": 1
}
