{
 "cells": [
  {
   "cell_type": "markdown",
   "metadata": {},
   "source": [
    "# Energy spectrum of the polariton"
   ]
  },
  {
   "cell_type": "code",
   "execution_count": 1,
   "metadata": {},
   "outputs": [],
   "source": [
    "# setup the matplotlib graphics library and configure it to show figures inline in the notebook\n",
    "%matplotlib inline\n",
    "import matplotlib.pyplot as plt\n",
    "import matplotlib as mpl\n",
    "import numpy as np"
   ]
  },
  {
   "cell_type": "code",
   "execution_count": 4,
   "metadata": {},
   "outputs": [],
   "source": [
    "# qutip\n",
    "from qutip import *"
   ]
  },
  {
   "cell_type": "markdown",
   "metadata": {},
   "source": [
    "Parameter"
   ]
  },
  {
   "cell_type": "code",
   "execution_count": 5,
   "metadata": {},
   "outputs": [],
   "source": [
    "wc = 0.5  * 2 * np.pi  # cavity frequency\n",
    "# wa = 0.01  * 2 * np.pi  # atom frequency\n",
    "g = 1.0 * 2 * np.pi # coupling strength\n",
    "\n",
    "N = 30            # number of cavity fock states\n",
    "use_rwa = False"
   ]
  },
  {
   "cell_type": "markdown",
   "metadata": {},
   "source": [
    "Set Hamiltonian"
   ]
  },
  {
   "cell_type": "code",
   "execution_count": 6,
   "metadata": {},
   "outputs": [],
   "source": [
    "# operators\n",
    "a  = tensor(destroy(N), qeye(2))\n",
    "sm = tensor(qeye(N), destroy(2))\n",
    "\n",
    "na = sm.dag() * sm  # atom\n",
    "nc = a.dag() * a    # cavity\n",
    "\n",
    "# decoupled Hamiltonian\n",
    "H0_c = wc * a.dag() * a\n",
    "H0_a = sm.dag() * sm\n",
    "\n",
    "# interaction Hamiltonian\n",
    "if use_rwa:\n",
    "    H1 = g * (a.dag() * sm + a * sm.dag())\n",
    "else:\n",
    "    H1 = g * (a.dag() + a) * (sm + sm.dag())"
   ]
  },
  {
   "cell_type": "code",
   "execution_count": 7,
   "metadata": {},
   "outputs": [],
   "source": [
    "wa_vec = np.linspace(0, 5.0, 500) * 2 * np.pi # coupling strength vector\n",
    "#linspace(start, stop, num)\n",
    "\n",
    "psi_list = []\n",
    "\n",
    "for wa in wa_vec:\n",
    "\n",
    "    H = H0_a * wa + H0_c + H1\n",
    "\n",
    "    # find the groundstate and its energy\n",
    "    gnd_energy, gnd_state = H.groundstate()\n",
    "    \n",
    "    full_eigenstate = H.eigenstates()\n",
    "    \n",
    "    # store the ground state\n",
    "    psi_list.append(gnd_state)"
   ]
  },
  {
   "cell_type": "code",
   "execution_count": null,
   "metadata": {},
   "outputs": [],
   "source": []
  }
 ],
 "metadata": {
  "kernelspec": {
   "display_name": "Python 3",
   "language": "python",
   "name": "python3"
  },
  "language_info": {
   "codemirror_mode": {
    "name": "ipython",
    "version": 3
   },
   "file_extension": ".py",
   "mimetype": "text/x-python",
   "name": "python",
   "nbconvert_exporter": "python",
   "pygments_lexer": "ipython3",
   "version": "3.5.2"
  }
 },
 "nbformat": 4,
 "nbformat_minor": 2
}
