{
 "cells": [
  {
   "cell_type": "code",
   "execution_count": 1,
   "metadata": {},
   "outputs": [],
   "source": [
    "#!/usr/bin/env python2\n",
    "# -*- coding: utf-8 -*-\n",
    "\"\"\"\n",
    "Created on Fri Mar  2 03:32:51 2018\n",
    "\n",
    "@author: ks\n",
    "\"\"\"\n",
    "\n",
    "# setup the matplotlib graphics library and configure it to show figures inline in the notebook\n",
    "import matplotlib.pyplot as plt\n",
    "import matplotlib as mpl\n",
    "import numpy as np\n",
    "\n",
    "# make qutip available in the rest of the notebook\n",
    "from qutip import *"
   ]
  },
  {
   "cell_type": "code",
   "execution_count": 101,
   "metadata": {},
   "outputs": [],
   "source": [
    "#def compute(w1list, w2, w3, g12, g13):\n",
    "def compute(waq_list, wc, wq, g, gac, N, M):\n",
    "    # Pre-compute operators for the hamiltonian\n",
    "\n",
    "    a   = tensor(destroy(N), qeye(2), qeye(2)) # destroy of cavity\n",
    "    sm  = tensor(qeye(N), destroy(2), qeye(2)) # destroy of qubit\n",
    "    sam = tensor(qeye(N), qeye(2), destroy(2)) # destroy of ancilla\n",
    "\n",
    "    nq  = tensor(qeye(N), sigmaz(), qeye(2)) # number of qubit\n",
    "    nc  = tensor(destroy(N).dag() * destroy(N), qeye(2), qeye(2)) # number of cavity\n",
    "    naq  = tensor(qeye(N), qeye(2), sigmaz()) # number of ancilla\n",
    "    \n",
    "    parity_op = -tensor(((0+np.pi*1j)*destroy(N).dag() * destroy(N)).expm(), sigmaz(), sigmaz())\n",
    "    zero_parity_op = -tensor(((0+np.pi*1j)*destroy(N).dag() * destroy(N)).expm(), sigmaz(), sigmaz())\n",
    "    \n",
    "    # total parity_oprator\n",
    "    zero = tensor(basis(N, 0) - basis(N, 0), basis(2,0) - basis(2,0), basis(2, 0) - basis(2, 0))\n",
    "    \n",
    "    idx = 0\n",
    "    err = 0\n",
    "    \n",
    "    evals_posi_mat = np.zeros((len(waq_list), N*2))\n",
    "    evals_nega_mat = np.zeros((len(waq_list), N*2))\n",
    "    \n",
    "    for waq in waq_list:\n",
    "        \n",
    "        tmp_p_list = []\n",
    "        tmp_m_list = []\n",
    "\n",
    "        # evaluate the Hamiltonian\n",
    "        H = 0.5 * (waq + 0.1 - M) * naq + 0.5 * wq * nq + wc * nc + g * (a.dag() + a) * (sm + sm.dag()) + gac * (a.dag() + a) * (sam + sam.dag())\n",
    "      \n",
    "        # find the energy eigenvalues of the composite system\n",
    "        evals, ekets = H.eigenstates()       \n",
    "        \n",
    "        for i in range(N * 2 * 2):\n",
    "            ei = parity_op * ekets[i] + ekets[i]\n",
    "            if ei == zero:\n",
    "                tmp_p_list.append(evals[i])\n",
    "            elif ei == 2*ekets[i]:\n",
    "                tmp_m_list.append(evals[i])\n",
    "            else:\n",
    "                print(\"exceptional\", i)\n",
    "                err = i\n",
    "                return i, ekets[i], ekets[i]\n",
    "                \n",
    "                \n",
    "        evals_posi = np.asarray(tmp_p_list)\n",
    "        evals_nega = np.asarray(tmp_m_list)\n",
    "        \n",
    "        evals_posi_mat[idx,:] = np.real(evals_posi)\n",
    "        evals_nega_mat[idx,:] = np.real(evals_nega)\n",
    "        \n",
    "        idx += 1\n",
    "    return evals_posi_mat, evals_nega_mat, ekets"
   ]
  },
  {
   "cell_type": "code",
   "execution_count": 108,
   "metadata": {},
   "outputs": [
    {
     "name": "stdout",
     "output_type": "stream",
     "text": [
      "error\n"
     ]
    }
   ],
   "source": [
    "wc  = 1.0 * 2 * np.pi   # cavity frequency\n",
    "wq  = 1.0 * 2 * np.pi   # qubit frequency\n",
    "g   = 2.0 * 2 * np.pi   # cavity-qubit coupling strength\n",
    "gac = 0.02 * 2 * np.pi  # ancilla-cavity coupling strength\n",
    "N   = 10\n",
    "M   = 0 * 2 * np.pi\n",
    "waq_max = 2\n",
    "\n",
    "waq_list = np.linspace(0, waq_max, 80) * 2.0 * np.pi # ancilla frequency range\n",
    "\n",
    "evals_posi_mat, evals_nega_mat, ekets= compute(waq_list, wc, wq, g, gac, N, M)"
   ]
  },
  {
   "cell_type": "code",
   "execution_count": 111,
   "metadata": {
    "scrolled": false
   },
   "outputs": [
    {
     "ename": "TypeError",
     "evalue": "'int' object is not subscriptable",
     "output_type": "error",
     "traceback": [
      "\u001b[0;31m---------------------------------------------------------------------------\u001b[0m",
      "\u001b[0;31mTypeError\u001b[0m                                 Traceback (most recent call last)",
      "\u001b[0;32m<ipython-input-111-4aa8bae6e18b>\u001b[0m in \u001b[0;36m<module>\u001b[0;34m()\u001b[0m\n\u001b[1;32m      4\u001b[0m \u001b[0;34m\u001b[0m\u001b[0m\n\u001b[1;32m      5\u001b[0m \u001b[0;32mfor\u001b[0m \u001b[0mn\u001b[0m \u001b[0;32min\u001b[0m \u001b[0mrange\u001b[0m\u001b[0;34m(\u001b[0m\u001b[0msnum\u001b[0m\u001b[0;34m)\u001b[0m\u001b[0;34m:\u001b[0m\u001b[0;34m\u001b[0m\u001b[0m\n\u001b[0;32m----> 6\u001b[0;31m     \u001b[0mbx\u001b[0m\u001b[0;34m.\u001b[0m\u001b[0mplot\u001b[0m\u001b[0;34m(\u001b[0m\u001b[0;34m(\u001b[0m\u001b[0mwaq_list\u001b[0m \u001b[0;34m-\u001b[0m \u001b[0mM\u001b[0m\u001b[0;34m)\u001b[0m \u001b[0;34m/\u001b[0m \u001b[0;34m(\u001b[0m\u001b[0;36m2\u001b[0m\u001b[0;34m*\u001b[0m\u001b[0mnp\u001b[0m\u001b[0;34m.\u001b[0m\u001b[0mpi\u001b[0m\u001b[0;34m)\u001b[0m\u001b[0;34m,\u001b[0m \u001b[0;34m(\u001b[0m\u001b[0mevals_posi_mat\u001b[0m\u001b[0;34m[\u001b[0m\u001b[0;34m:\u001b[0m\u001b[0;34m,\u001b[0m\u001b[0mn\u001b[0m\u001b[0;34m]\u001b[0m \u001b[0;34m-\u001b[0m \u001b[0mevals_posi_mat\u001b[0m\u001b[0;34m[\u001b[0m\u001b[0;34m:\u001b[0m\u001b[0;34m,\u001b[0m \u001b[0;36m0\u001b[0m\u001b[0;34m]\u001b[0m\u001b[0;34m)\u001b[0m \u001b[0;34m/\u001b[0m \u001b[0;34m(\u001b[0m\u001b[0;36m2\u001b[0m\u001b[0;34m*\u001b[0m\u001b[0mnp\u001b[0m\u001b[0;34m.\u001b[0m\u001b[0mpi\u001b[0m\u001b[0;34m)\u001b[0m\u001b[0;34m,\u001b[0m \u001b[0;34m'r'\u001b[0m\u001b[0;34m,\u001b[0m \u001b[0mlinewidth\u001b[0m \u001b[0;34m=\u001b[0m \u001b[0;36m1\u001b[0m\u001b[0;34m)\u001b[0m\u001b[0;34m\u001b[0m\u001b[0m\n\u001b[0m\u001b[1;32m      7\u001b[0m     \u001b[0mbx\u001b[0m\u001b[0;34m.\u001b[0m\u001b[0mplot\u001b[0m\u001b[0;34m(\u001b[0m\u001b[0;34m(\u001b[0m\u001b[0mwaq_list\u001b[0m \u001b[0;34m-\u001b[0m \u001b[0mM\u001b[0m\u001b[0;34m)\u001b[0m \u001b[0;34m/\u001b[0m \u001b[0;34m(\u001b[0m\u001b[0;36m2\u001b[0m\u001b[0;34m*\u001b[0m\u001b[0mnp\u001b[0m\u001b[0;34m.\u001b[0m\u001b[0mpi\u001b[0m\u001b[0;34m)\u001b[0m\u001b[0;34m,\u001b[0m \u001b[0;34m(\u001b[0m\u001b[0mevals_nega_mat\u001b[0m\u001b[0;34m[\u001b[0m\u001b[0;34m:\u001b[0m\u001b[0;34m,\u001b[0m\u001b[0mn\u001b[0m\u001b[0;34m]\u001b[0m \u001b[0;34m-\u001b[0m \u001b[0mevals_posi_mat\u001b[0m\u001b[0;34m[\u001b[0m\u001b[0;34m:\u001b[0m\u001b[0;34m,\u001b[0m \u001b[0;36m0\u001b[0m\u001b[0;34m]\u001b[0m\u001b[0;34m)\u001b[0m \u001b[0;34m/\u001b[0m \u001b[0;34m(\u001b[0m\u001b[0;36m2\u001b[0m\u001b[0;34m*\u001b[0m\u001b[0mnp\u001b[0m\u001b[0;34m.\u001b[0m\u001b[0mpi\u001b[0m\u001b[0;34m)\u001b[0m\u001b[0;34m,\u001b[0m \u001b[0;34m'b'\u001b[0m\u001b[0;34m,\u001b[0m \u001b[0mlinestyle\u001b[0m \u001b[0;34m=\u001b[0m \u001b[0;34m\"dashed\"\u001b[0m\u001b[0;34m,\u001b[0m \u001b[0mlinewidth\u001b[0m \u001b[0;34m=\u001b[0m \u001b[0;36m1\u001b[0m\u001b[0;34m)\u001b[0m\u001b[0;34m\u001b[0m\u001b[0m\n\u001b[1;32m      8\u001b[0m \u001b[0;34m\u001b[0m\u001b[0m\n",
      "\u001b[0;31mTypeError\u001b[0m: 'int' object is not subscriptable"
     ]
    },
    {
     "data": {
      "image/png": "[encoded data removed]",
      "text/plain": [
       "<matplotlib.figure.Figure at 0x7f4a2a5e76a0>"
      ]
     },
     "metadata": {},
     "output_type": "display_data"
    }
   ],
   "source": [
    "fig, bx = plt.subplots(figsize=(3,6))\n",
    "snum = 8\n",
    "plt.ylim([-0.1,2.6])\n",
    "\n",
    "for n in range(snum):\n",
    "    bx.plot((waq_list - M) / (2*np.pi), (evals_posi_mat[:,n] - evals_posi_mat[:, 0]) / (2*np.pi), 'r', linewidth = 1)\n",
    "    bx.plot((waq_list - M) / (2*np.pi), (evals_nega_mat[:,n] - evals_posi_mat[:, 0]) / (2*np.pi), 'b', linestyle = \"dashed\", linewidth = 1)\n",
    "    \n",
    "bx.set_xlabel('Energy splitting of ancilla')\n",
    "bx.set_ylabel('Eigenenergies')\n",
    "bx.set_title( 'Energy spectrum of three coupled qubits');"
   ]
  },
  {
   "cell_type": "code",
   "execution_count": 60,
   "metadata": {},
   "outputs": [
    {
     "data": {
      "text/latex": [
       "Quantum object: dims = [[15, 2, 2], [15, 2, 2]], shape = (60, 60), type = oper, isherm = True\\begin{equation*}\\left(\\begin{array}{*{11}c}9.430 & 0.0 & 0.0 & 0.0 & 0.0 & \\cdots & 0.0 & 0.0 & 0.0 & 0.0 & 0.0\\\\0.0 & -3.147 & 0.0 & 0.0 & 0.126 & \\cdots & 0.0 & 0.0 & 0.0 & 0.0 & 0.0\\\\0.0 & 0.0 & 3.147 & 0.0 & 6.283 & \\cdots & 0.0 & 0.0 & 0.0 & 0.0 & 0.0\\\\0.0 & 0.0 & 0.0 & -9.430 & 0.0 & \\cdots & 0.0 & 0.0 & 0.0 & 0.0 & 0.0\\\\0.0 & 0.126 & 6.283 & 0.0 & 15.713 & \\cdots & 0.0 & 0.0 & 0.0 & 0.0 & 0.0\\\\\\vdots & \\vdots & \\vdots & \\vdots & \\vdots & \\ddots & \\vdots & \\vdots & \\vdots & \\vdots & \\vdots\\\\0.0 & 0.0 & 0.0 & 0.0 & 0.0 & \\cdots & 72.252 & 0.0 & 23.510 & 0.470 & 0.0\\\\0.0 & 0.0 & 0.0 & 0.0 & 0.0 & \\cdots & 0.0 & 97.394 & 0.0 & 0.0 & 0.0\\\\0.0 & 0.0 & 0.0 & 0.0 & 0.0 & \\cdots & 23.510 & 0.0 & 84.818 & 0.0 & 0.0\\\\0.0 & 0.0 & 0.0 & 0.0 & 0.0 & \\cdots & 0.470 & 0.0 & 0.0 & 91.111 & 0.0\\\\0.0 & 0.0 & 0.0 & 0.0 & 0.0 & \\cdots & 0.0 & 0.0 & 0.0 & 0.0 & 78.535\\\\\\end{array}\\right)\\end{equation*}"
      ],
      "text/plain": [
       "Quantum object: dims = [[15, 2, 2], [15, 2, 2]], shape = (60, 60), type = oper, isherm = True\n",
       "Qobj data =\n",
       "[[ 9.42977796  0.          0.         ...  0.          0.\n",
       "   0.        ]\n",
       " [ 0.         -3.14659265  0.         ...  0.          0.\n",
       "   0.        ]\n",
       " [ 0.          0.          3.14659265 ...  0.          0.\n",
       "   0.        ]\n",
       " ...\n",
       " [ 0.          0.          0.         ... 84.81800165  0.\n",
       "   0.        ]\n",
       " [ 0.          0.          0.         ...  0.         91.11118695\n",
       "   0.        ]\n",
       " [ 0.          0.          0.         ...  0.          0.\n",
       "  78.53481634]]"
      ]
     },
     "execution_count": 60,
     "metadata": {},
     "output_type": "execute_result"
    }
   ],
   "source": [
    "H"
   ]
  },
  {
   "cell_type": "code",
   "execution_count": 104,
   "metadata": {},
   "outputs": [
    {
     "data": {
      "text/plain": [
       "0"
      ]
     },
     "execution_count": 104,
     "metadata": {},
     "output_type": "execute_result"
    }
   ],
   "source": [
    "evals_posi_mat"
   ]
  },
  {
   "cell_type": "code",
   "execution_count": null,
   "metadata": {},
   "outputs": [],
   "source": []
  }
 ],
 "metadata": {
  "kernelspec": {
   "display_name": "Python 3",
   "language": "python",
   "name": "python3"
  },
  "language_info": {
   "codemirror_mode": {
    "name": "ipython",
    "version": 3
   },
   "file_extension": ".py",
   "mimetype": "text/x-python",
   "name": "python",
   "nbconvert_exporter": "python",
   "pygments_lexer": "ipython3",
   "version": "3.5.2"
  }
 },
 "nbformat": 4,
 "nbformat_minor": 2
}
