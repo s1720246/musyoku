{
 "cells": [
  {
   "cell_type": "markdown",
   "metadata": {},
   "source": [
    "# QuTiP example: Landau-Zener transitions"
   ]
  },
  {
   "cell_type": "markdown",
   "metadata": {},
   "source": [
    "J.R. Johansson and P.D. Nation\n",
    "\n",
    "For more information about QuTiP see [http://qutip.org](http://qutip.org)"
   ]
  },
  {
   "cell_type": "code",
   "execution_count": 137,
   "metadata": {},
   "outputs": [],
   "source": [
    "%matplotlib inline"
   ]
  },
  {
   "cell_type": "code",
   "execution_count": 138,
   "metadata": {},
   "outputs": [],
   "source": [
    "import matplotlib.pyplot as plt"
   ]
  },
  {
   "cell_type": "code",
   "execution_count": 139,
   "metadata": {},
   "outputs": [],
   "source": [
    "import numpy as np"
   ]
  },
  {
   "cell_type": "code",
   "execution_count": 140,
   "metadata": {},
   "outputs": [],
   "source": [
    "from qutip import *"
   ]
  },
  {
   "cell_type": "code",
   "execution_count": 141,
   "metadata": {},
   "outputs": [],
   "source": [
    "import time"
   ]
  },
  {
   "cell_type": "code",
   "execution_count": 142,
   "metadata": {},
   "outputs": [],
   "source": [
    "def hamiltonian_t(t, args):\n",
    "    \"\"\" evaluate the hamiltonian at time t. \"\"\"\n",
    "    H0 = args[0]\n",
    "    H1 = args[1]\n",
    "\n",
    "    return H0 + t * H1"
   ]
  },
  {
   "cell_type": "code",
   "execution_count": 143,
   "metadata": {},
   "outputs": [],
   "source": [
    "def qubit_integrate(delta, eps0, A, gamma1, gamma2, psi0, tlist):\n",
    "\n",
    "    # Hamiltonian\n",
    "    sx = sigmax()\n",
    "    sz = sigmaz()\n",
    "    sm = destroy(2)\n",
    "\n",
    "    H0 =  delta/2.0 * sx + eps0/2.0 * sz\n",
    "    H1 =  A/2.0 * sz        \n",
    "\n",
    "    # collapse operators\n",
    "    c_op_list = []\n",
    "\n",
    "    n_th = 0.0 # zero temperature\n",
    "\n",
    "    # relaxationhttp://localhost:8888/notebooks/jupyter_notebook/project/LZ_T/landau-zener.ipynb#\n",
    "    rate = gamma1 * (1 + n_th)\n",
    "    if rate > 0.0:\n",
    "        c_op_list.append(np.sqrt(rate) * sm)\n",
    "\n",
    "    # excitation\n",
    "    rate = gamma1 * n_th\n",
    "    if rate > 0.0:\n",
    "        c_op_list.append(np.sqrt(rate) * sm.dag())\n",
    "\n",
    "    # dephasing \n",
    "    rate = gamma2\n",
    "    if rate > 0.0:\n",
    "        c_op_list.append(np.sqrt(rate) * sz)\n",
    "\n",
    "    # evolve and calculate expectation values\n",
    "\n",
    "    # method 1: function callback which returns the time-depdent qobj\n",
    "    #H_args = (H0, H1)\n",
    "    #output = mesolve(hamiltonian_t, psi0, tlist, c_op_list, [sm.dag() * sm], H_args)  \n",
    "\n",
    "    # method 2: a function callback that returns the coefficient for a qobj\n",
    "    #H = [H0, [H1, lambda x,y: x]]\n",
    "    #output = mesolve(H, psi0, tlist, c_op_list, [sm.dag() * sm], {})  \n",
    "\n",
    "    # method 3: a string that defines the coefficient. The solver generates\n",
    "    # and compiles C code using cython. This method is usually the fastest\n",
    "    # for large systems or long time evolutions, but there is fixed-time\n",
    "    # overhead that makes it inefficient for small and short-time evolutions.\n",
    "    H = [H0, [H1, 't']]\n",
    "    output = mesolve(H, psi0, tlist, c_op_list, [sm.dag() * sm], {})  \n",
    "\n",
    "    return output.expect[0]"
   ]
  },
  {
   "cell_type": "code",
   "execution_count": 144,
   "metadata": {},
   "outputs": [],
   "source": [
    "#\n",
    "# set up the calculation\n",
    "#\n",
    "delta = 0.5 * 2 * np.pi   # qubit sigma_x coefficient\n",
    "eps0  = 0.0 * 2 * np.pi   # qubit sigma_z coefficient\n",
    "A     = 2.0 * 2 * np.pi   # sweep rate\n",
    "gamma1 = 0.0          # relaxation rate\n",
    "gamma2 = 0.0           # dephasing  rate\n",
    "psi0 = basis(2,0)      # initial state\n",
    "\n",
    "tlist = np.linspace(-20.0, 40.0, 5000)"
   ]
  },
  {
   "cell_type": "code",
   "execution_count": 145,
   "metadata": {},
   "outputs": [
    {
     "name": "stdout",
     "output_type": "stream",
     "text": [
      "time elapsed = 5.542918682098389\n"
     ]
    }
   ],
   "source": [
    "start_time = time.time()\n",
    "p_ex = qubit_integrate(delta, eps0, A, gamma1, gamma2, psi0, tlist)\n",
    "print('time elapsed = ' + str(time.time() - start_time))"
   ]
  },
  {
   "cell_type": "code",
   "execution_count": 146,
   "metadata": {},
   "outputs": [
    {
     "data": {
      "image/png": "[encoded data removed]",
      "text/plain": [
       "<matplotlib.figure.Figure at 0x7f6b4ee9a5f8>"
      ]
     },
     "metadata": {},
     "output_type": "display_data"
    }
   ],
   "source": [
    "fig, ax = plt.subplots(figsize=(12,8))\n",
    "ax.plot(tlist, np.real(p_ex), 'b', tlist, np.real(1-p_ex), 'r')\n",
    "ax.plot(tlist, np.exp(-np.pi * delta **2 / (2 * A)) * np.ones(shape(tlist)), 'k')\n",
    "ax.set_xlabel('Time')\n",
    "ax.set_ylabel('Occupation probability')\n",
    "ax.set_title('Landau-Zener transition')\n",
    "ax.legend((\"Ground state\", \"Excited state\", \"Landau-Zener formula\"), loc=0);"
   ]
  }
 ],
 "metadata": {
  "kernelspec": {
   "display_name": "Python 3",
   "language": "python",
   "name": "python3"
  },
  "language_info": {
   "codemirror_mode": {
    "name": "ipython",
    "version": 3
   },
   "file_extension": ".py",
   "mimetype": "text/x-python",
   "name": "python",
   "nbconvert_exporter": "python",
   "pygments_lexer": "ipython3",
   "version": "3.5.2"
  }
 },
 "nbformat": 4,
 "nbformat_minor": 1
}
